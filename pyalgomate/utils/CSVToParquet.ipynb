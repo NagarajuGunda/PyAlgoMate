{
 "cells": [
  {
   "cell_type": "markdown",
   "metadata": {},
   "source": [
    "## Read from CSV with types"
   ]
  },
  {
   "cell_type": "code",
   "execution_count": null,
   "metadata": {},
   "outputs": [],
   "source": [
    "import pandas as pd"
   ]
  },
  {
   "cell_type": "code",
   "execution_count": null,
   "metadata": {},
   "outputs": [],
   "source": [
    "path = \"/mnt/c/Personal/Projects/PyAlgoMate/pyalgomate/backtesting/data/2022-monthly-01\""
   ]
  },
  {
   "cell_type": "code",
   "execution_count": null,
   "metadata": {},
   "outputs": [],
   "source": [
    "dtypes = {\n",
    "    'Ticker': 'string',\n",
    "    'Open': 'float64',\n",
    "    'High': 'float64',\n",
    "    'Low': 'float64',\n",
    "    'Close': 'float64',\n",
    "    'Volume': 'float64',\n",
    "    'Open Interest': 'float64'\n",
    "}"
   ]
  },
  {
   "cell_type": "code",
   "execution_count": null,
   "metadata": {},
   "outputs": [],
   "source": [
    "df = pd.read_csv(f\"{path}.csv\", dtype=dtypes, parse_dates=['Date/Time'], infer_datetime_format=True).drop_duplicates(keep='first')"
   ]
  },
  {
   "cell_type": "code",
   "execution_count": null,
   "metadata": {},
   "outputs": [],
   "source": [
    "df.info()"
   ]
  },
  {
   "attachments": {},
   "cell_type": "markdown",
   "metadata": {},
   "source": [
    "## Write to parquet format file"
   ]
  },
  {
   "cell_type": "code",
   "execution_count": null,
   "metadata": {},
   "outputs": [],
   "source": [
    "df.to_parquet(f'{path}.parquet', index=False)"
   ]
  },
  {
   "cell_type": "code",
   "execution_count": null,
   "metadata": {},
   "outputs": [],
   "source": [
    "df_parquet = pd.read_parquet(f'{path}.parquet')"
   ]
  },
  {
   "cell_type": "code",
   "execution_count": null,
   "metadata": {},
   "outputs": [],
   "source": [
    "df_parquet.info()"
   ]
  },
  {
   "cell_type": "code",
   "execution_count": 46,
   "metadata": {},
   "outputs": [
    {
     "name": "stdout",
     "output_type": "stream",
     "text": [
      "/mnt/c/Personal/Projects/PyAlgoMate\n"
     ]
    }
   ],
   "source": [
    "%cd /mnt/c/Personal/Projects/PyAlgoMate\n",
    "\n",
    "import pyalgomate.utils as utils\n",
    "import datetime\n",
    "import pandas as pd\n",
    "from IPython.display import display\n"
   ]
  },
  {
   "cell_type": "code",
   "execution_count": null,
   "metadata": {},
   "outputs": [],
   "source": [
    "utils.getNearestWeeklyExpiryDate(datetime.date(2022, 9, 8))"
   ]
  },
  {
   "cell_type": "code",
   "execution_count": null,
   "metadata": {},
   "outputs": [],
   "source": [
    "utils.getNearestMonthlyExpiryDate(datetime.date(2022, 1, 1))"
   ]
  },
  {
   "cell_type": "code",
   "execution_count": null,
   "metadata": {},
   "outputs": [],
   "source": [
    "def read_csv(file):\n",
    "    dtypes = {\n",
    "        'Ticker': 'string',\n",
    "        'Open': 'float64',\n",
    "        'High': 'float64',\n",
    "        'Low': 'float64',\n",
    "        'Close': 'float64',\n",
    "        'Volume': 'float64',\n",
    "        'Open Interest': 'float64'\n",
    "    }\n",
    "\n",
    "    return pd.read_csv(file, dtype=dtypes, parse_dates=['Date/Time'], infer_datetime_format=True).drop_duplicates(keep='first')\n"
   ]
  },
  {
   "cell_type": "code",
   "execution_count": null,
   "metadata": {},
   "outputs": [],
   "source": [
    "df1 = read_csv('/mnt/c/Personal/Projects/PyAlgoMate/pyalgomate/backtesting/data/2022/31DEc_06_Jan2022_WEEKLY_expiry_data_VEGE_NF_AND_BNF_Options_Desktop.csv')\n",
    "df2 = read_csv('/mnt/c/Personal/Projects/PyAlgoMate/pyalgomate/backtesting/data/2022/07_13_Jan_22_WEEKLY_expiry_data_VEGE_NF_AND_BNF_Options_Desktop.csv')\n",
    "df3 = read_csv('/mnt/c/Personal/Projects/PyAlgoMate/pyalgomate/backtesting/data/2022/14_20_Jan_22_WEEKLY_expiry_data_VEGE_NF_AND_BNF_Options_Desktop.csv')\n",
    "df4 = read_csv('/mnt/c/Personal/Projects/PyAlgoMate/pyalgomate/backtesting/data/2022/JANUARY-2022-MONTHLY-Expiry-data _Vege.csv')\n",
    "\n",
    "#df5 = read_csv('/mnt/c/Personal/Projects/PyAlgoMate/pyalgomate/backtesting/data/2022/21_24_MAR_WEEKLY_expiry_data_VEGE_NF_AND_BNF_Options_Desktop_Vege.csv')"
   ]
  },
  {
   "cell_type": "code",
   "execution_count": null,
   "metadata": {},
   "outputs": [],
   "source": [
    "expiry1 = '06JAN22'\n",
    "expiry2 = '13JAN22'\n",
    "expiry3 = '20JAN22'\n",
    "expiry4 = '27JAN22'\n",
    "\n",
    "expiry5 = '24MAR22'\n",
    "\n",
    "# define regex patterns to match and replace\n",
    "pattern1 = r'^([a-zA-Z]+)WK(\\d+)(P|C)E$'\n",
    "pattern2 = r'^([a-zA-Z]+)(\\d+)(P|C)E$'\n",
    "replace1 = r'\\1Expiry\\3\\2'\n",
    "\n",
    "df1['Ticker'] = df1['Ticker'].str.replace(pattern1, replace1).str.replace('Expiry', expiry1)\n",
    "df2['Ticker'] = df2['Ticker'].str.replace(pattern1, replace1).str.replace('Expiry', expiry2)\n",
    "df3['Ticker'] = df3['Ticker'].str.replace(pattern1, replace1).str.replace('Expiry', expiry3)\n",
    "df4['Ticker'] = df4['Ticker'].str.replace(pattern2, replace1).str.replace('Expiry', expiry4)\n",
    "\n",
    "#df5['Ticker'] = df5['Ticker'].str.replace(pattern1, replace1).str.replace('Expiry', expiry5)"
   ]
  },
  {
   "cell_type": "code",
   "execution_count": null,
   "metadata": {},
   "outputs": [],
   "source": [
    "file = '/mnt/c/Personal/Projects/PyAlgoMate/pyalgomate/backtesting/data/2022/01.parquet'\n",
    "\n",
    "pd.concat([df1, df2, df3, df4]).sort_values(['Ticker', 'Date/Time']).drop_duplicates(subset=['Ticker', 'Date/Time'], keep='first').to_parquet(\n",
    "    file, \n",
    "    index=False\n",
    "    )"
   ]
  },
  {
   "cell_type": "code",
   "execution_count": null,
   "metadata": {},
   "outputs": [],
   "source": [
    "df_parquet = pd.read_parquet(file)\n",
    "\n",
    "df_parquet[(df_parquet['Date/Time'].dt.date >= datetime.date(2022, 1, 1)) &\n",
    "                   df_parquet.Ticker.str.startswith('BANKNIFTY') & \n",
    "                   (df_parquet.Ticker.values != 'BANKNIFTY') & \n",
    "                   (df_parquet.Ticker.values != 'BANKNIFTY-FUT') & \n",
    "                   (df_parquet.Ticker.str.contains('BANKNIFTY\\d\\d[A-Z]+\\d\\d[CP]+\\d+', regex=True)!=True)]"
   ]
  },
  {
   "cell_type": "code",
   "execution_count": 56,
   "metadata": {},
   "outputs": [
    {
     "data": {
      "text/html": [
       "<div>\n",
       "<style scoped>\n",
       "    .dataframe tbody tr th:only-of-type {\n",
       "        vertical-align: middle;\n",
       "    }\n",
       "\n",
       "    .dataframe tbody tr th {\n",
       "        vertical-align: top;\n",
       "    }\n",
       "\n",
       "    .dataframe thead th {\n",
       "        text-align: right;\n",
       "    }\n",
       "</style>\n",
       "<table border=\"1\" class=\"dataframe\">\n",
       "  <thead>\n",
       "    <tr style=\"text-align: right;\">\n",
       "      <th></th>\n",
       "      <th>Ticker</th>\n",
       "      <th>Date/Time</th>\n",
       "      <th>Open</th>\n",
       "      <th>High</th>\n",
       "      <th>Low</th>\n",
       "      <th>Close</th>\n",
       "      <th>Volume</th>\n",
       "      <th>Open Interest</th>\n",
       "    </tr>\n",
       "  </thead>\n",
       "  <tbody>\n",
       "    <tr>\n",
       "      <th>205588</th>\n",
       "      <td>NIFTY02FEB23C16450</td>\n",
       "      <td>2023-02-01 09:15:00</td>\n",
       "      <td>1305.10</td>\n",
       "      <td>1305.10</td>\n",
       "      <td>1305.10</td>\n",
       "      <td>1305.10</td>\n",
       "      <td>101.0</td>\n",
       "      <td>0.0</td>\n",
       "    </tr>\n",
       "    <tr>\n",
       "      <th>205589</th>\n",
       "      <td>NIFTY02FEB23C16450</td>\n",
       "      <td>2023-02-01 15:20:00</td>\n",
       "      <td>1185.10</td>\n",
       "      <td>1185.10</td>\n",
       "      <td>1185.10</td>\n",
       "      <td>1185.10</td>\n",
       "      <td>100.0</td>\n",
       "      <td>100.0</td>\n",
       "    </tr>\n",
       "    <tr>\n",
       "      <th>205764</th>\n",
       "      <td>NIFTY02FEB23C16500</td>\n",
       "      <td>2023-02-01 09:41:00</td>\n",
       "      <td>1289.15</td>\n",
       "      <td>1289.15</td>\n",
       "      <td>1289.15</td>\n",
       "      <td>1289.15</td>\n",
       "      <td>51.0</td>\n",
       "      <td>14450.0</td>\n",
       "    </tr>\n",
       "    <tr>\n",
       "      <th>205765</th>\n",
       "      <td>NIFTY02FEB23C16500</td>\n",
       "      <td>2023-02-01 09:44:00</td>\n",
       "      <td>1290.00</td>\n",
       "      <td>1290.00</td>\n",
       "      <td>1290.00</td>\n",
       "      <td>1290.00</td>\n",
       "      <td>50.0</td>\n",
       "      <td>14400.0</td>\n",
       "    </tr>\n",
       "    <tr>\n",
       "      <th>205766</th>\n",
       "      <td>NIFTY02FEB23C16500</td>\n",
       "      <td>2023-02-01 09:45:00</td>\n",
       "      <td>1294.00</td>\n",
       "      <td>1294.00</td>\n",
       "      <td>1294.00</td>\n",
       "      <td>1294.00</td>\n",
       "      <td>100.0</td>\n",
       "      <td>14350.0</td>\n",
       "    </tr>\n",
       "    <tr>\n",
       "      <th>...</th>\n",
       "      <td>...</td>\n",
       "      <td>...</td>\n",
       "      <td>...</td>\n",
       "      <td>...</td>\n",
       "      <td>...</td>\n",
       "      <td>...</td>\n",
       "      <td>...</td>\n",
       "      <td>...</td>\n",
       "    </tr>\n",
       "    <tr>\n",
       "      <th>2242600</th>\n",
       "      <td>NIFTY23FEB23P20300</td>\n",
       "      <td>2023-02-01 12:42:00</td>\n",
       "      <td>2423.55</td>\n",
       "      <td>2423.55</td>\n",
       "      <td>2423.55</td>\n",
       "      <td>2423.55</td>\n",
       "      <td>50.0</td>\n",
       "      <td>68050.0</td>\n",
       "    </tr>\n",
       "    <tr>\n",
       "      <th>2242601</th>\n",
       "      <td>NIFTY23FEB23P20300</td>\n",
       "      <td>2023-02-01 14:04:00</td>\n",
       "      <td>2279.35</td>\n",
       "      <td>2279.35</td>\n",
       "      <td>2279.35</td>\n",
       "      <td>2279.35</td>\n",
       "      <td>50.0</td>\n",
       "      <td>68000.0</td>\n",
       "    </tr>\n",
       "    <tr>\n",
       "      <th>2242602</th>\n",
       "      <td>NIFTY23FEB23P20300</td>\n",
       "      <td>2023-02-01 14:09:00</td>\n",
       "      <td>2528.25</td>\n",
       "      <td>2528.25</td>\n",
       "      <td>2528.25</td>\n",
       "      <td>2528.25</td>\n",
       "      <td>50.0</td>\n",
       "      <td>67950.0</td>\n",
       "    </tr>\n",
       "    <tr>\n",
       "      <th>2242603</th>\n",
       "      <td>NIFTY23FEB23P20300</td>\n",
       "      <td>2023-02-01 14:55:00</td>\n",
       "      <td>2750.00</td>\n",
       "      <td>2750.00</td>\n",
       "      <td>2750.00</td>\n",
       "      <td>2750.00</td>\n",
       "      <td>100.0</td>\n",
       "      <td>67950.0</td>\n",
       "    </tr>\n",
       "    <tr>\n",
       "      <th>2242604</th>\n",
       "      <td>NIFTY23FEB23P20300</td>\n",
       "      <td>2023-02-01 15:17:00</td>\n",
       "      <td>2750.00</td>\n",
       "      <td>2750.00</td>\n",
       "      <td>2750.00</td>\n",
       "      <td>2750.00</td>\n",
       "      <td>50.0</td>\n",
       "      <td>68050.0</td>\n",
       "    </tr>\n",
       "  </tbody>\n",
       "</table>\n",
       "<p>114118 rows × 8 columns</p>\n",
       "</div>"
      ],
      "text/plain": [
       "                     Ticker           Date/Time     Open     High      Low  \\\n",
       "205588   NIFTY02FEB23C16450 2023-02-01 09:15:00  1305.10  1305.10  1305.10   \n",
       "205589   NIFTY02FEB23C16450 2023-02-01 15:20:00  1185.10  1185.10  1185.10   \n",
       "205764   NIFTY02FEB23C16500 2023-02-01 09:41:00  1289.15  1289.15  1289.15   \n",
       "205765   NIFTY02FEB23C16500 2023-02-01 09:44:00  1290.00  1290.00  1290.00   \n",
       "205766   NIFTY02FEB23C16500 2023-02-01 09:45:00  1294.00  1294.00  1294.00   \n",
       "...                     ...                 ...      ...      ...      ...   \n",
       "2242600  NIFTY23FEB23P20300 2023-02-01 12:42:00  2423.55  2423.55  2423.55   \n",
       "2242601  NIFTY23FEB23P20300 2023-02-01 14:04:00  2279.35  2279.35  2279.35   \n",
       "2242602  NIFTY23FEB23P20300 2023-02-01 14:09:00  2528.25  2528.25  2528.25   \n",
       "2242603  NIFTY23FEB23P20300 2023-02-01 14:55:00  2750.00  2750.00  2750.00   \n",
       "2242604  NIFTY23FEB23P20300 2023-02-01 15:17:00  2750.00  2750.00  2750.00   \n",
       "\n",
       "           Close  Volume  Open Interest  \n",
       "205588   1305.10   101.0            0.0  \n",
       "205589   1185.10   100.0          100.0  \n",
       "205764   1289.15    51.0        14450.0  \n",
       "205765   1290.00    50.0        14400.0  \n",
       "205766   1294.00   100.0        14350.0  \n",
       "...          ...     ...            ...  \n",
       "2242600  2423.55    50.0        68050.0  \n",
       "2242601  2279.35    50.0        68000.0  \n",
       "2242602  2528.25    50.0        67950.0  \n",
       "2242603  2750.00   100.0        67950.0  \n",
       "2242604  2750.00    50.0        68050.0  \n",
       "\n",
       "[114118 rows x 8 columns]"
      ]
     },
     "execution_count": 56,
     "metadata": {},
     "output_type": "execute_result"
    }
   ],
   "source": [
    "df_parquet = pd.read_parquet(\n",
    "    '/mnt/c/Personal/Projects/PyAlgoMate/pyalgomate/backtesting/data/2023/nifty-02.parquet')\n",
    "\n",
    "# df_parquet[df_parquet['Date/Time'].dt.date >= datetime.date(2022, 9, 26)].to_parquet(\n",
    "#     '/mnt/c/Personal/Projects/PyAlgoMate/pyalgomate/backtesting/data/test.parquet',\n",
    "#     index=False)\n",
    "\n",
    "df_parquet[(df_parquet['Date/Time'].dt.date == datetime.date(2023, 2, 1)) \n",
    "           #&\n",
    "           #(df_parquet['Date/Time'].dt.time >= datetime.time(15, 0)) &\n",
    "            #&df_parquet.Ticker.str.startswith('NIFTY')\n",
    "                #& (df_parquet.Ticker.values == 'BANKNIFTY25JAN23C41100')\n",
    "                #   # (df_parquet.Ticker.values != 'BANKNIFTY-FUT') & \n",
    "                    &(df_parquet.Ticker.str.contains('NIFTY\\d\\d[A-Z]+\\d\\d[CP]+\\d+', regex=True)==True) \n",
    "                #    #&(df_parquet.Ticker.values == 'BANKNIFTY25AUG22P38300')\n",
    "                   ]\n",
    "\n",
    "#.to_parquet('/mnt/c/Personal/Projects/PyAlgoMate/pyalgomate/backtesting/data/test.parquet', index=False)"
   ]
  },
  {
   "cell_type": "code",
   "execution_count": null,
   "metadata": {},
   "outputs": [],
   "source": [
    "from sqlalchemy import create_engine\n",
    "import pandas as pd"
   ]
  },
  {
   "cell_type": "code",
   "execution_count": null,
   "metadata": {},
   "outputs": [],
   "source": [
    "dbEngine = create_engine('sqlite:////mnt/c/Personal/Projects/PyAlgoMate/data.db')"
   ]
  },
  {
   "cell_type": "code",
   "execution_count": null,
   "metadata": {},
   "outputs": [],
   "source": [
    "conn = dbEngine.connect()"
   ]
  },
  {
   "cell_type": "code",
   "execution_count": null,
   "metadata": {},
   "outputs": [],
   "source": [
    "pd.read_sql_table('intraday_data', conn)"
   ]
  },
  {
   "cell_type": "code",
   "execution_count": null,
   "metadata": {},
   "outputs": [],
   "source": []
  }
 ],
 "metadata": {
  "kernelspec": {
   "display_name": ".venv",
   "language": "python",
   "name": "python3"
  },
  "language_info": {
   "codemirror_mode": {
    "name": "ipython",
    "version": 3
   },
   "file_extension": ".py",
   "mimetype": "text/x-python",
   "name": "python",
   "nbconvert_exporter": "python",
   "pygments_lexer": "ipython3",
   "version": "3.8.10"
  },
  "orig_nbformat": 4,
  "vscode": {
   "interpreter": {
    "hash": "fe9d4b083a44ebf6bef32a91ea107c3fc4b55f5a3b42020a6a91d3fc5c65cd2d"
   }
  }
 },
 "nbformat": 4,
 "nbformat_minor": 2
}
