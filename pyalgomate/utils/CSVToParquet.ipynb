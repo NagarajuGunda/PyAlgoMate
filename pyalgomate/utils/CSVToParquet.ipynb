{
 "cells": [
  {
   "cell_type": "markdown",
   "metadata": {},
   "source": [
    "## Read from CSV with types"
   ]
  },
  {
   "cell_type": "code",
   "execution_count": 6,
   "metadata": {},
   "outputs": [],
   "source": [
    "import pandas as pd"
   ]
  },
  {
   "cell_type": "code",
   "execution_count": 17,
   "metadata": {},
   "outputs": [],
   "source": [
    "path = \"/mnt/c/Personal/Projects/PyAlgoMate/pyalgomate/backtesting/data/2022-monthly-03\""
   ]
  },
  {
   "cell_type": "code",
   "execution_count": 18,
   "metadata": {},
   "outputs": [],
   "source": [
    "dtypes = {\n",
    "    'Ticker': 'string',\n",
    "    'Open': 'float64',\n",
    "    'High': 'float64',\n",
    "    'Low': 'float64',\n",
    "    'Close': 'float64',\n",
    "    'Volume': 'float64',\n",
    "    'Open Interest': 'float64'\n",
    "}"
   ]
  },
  {
   "cell_type": "code",
   "execution_count": 19,
   "metadata": {},
   "outputs": [],
   "source": [
    "df = pd.read_csv(f\"{path}.csv\", dtype=dtypes, parse_dates=['Date/Time'], infer_datetime_format=True)"
   ]
  },
  {
   "cell_type": "code",
   "execution_count": 20,
   "metadata": {},
   "outputs": [
    {
     "name": "stdout",
     "output_type": "stream",
     "text": [
      "<class 'pandas.core.frame.DataFrame'>\n",
      "RangeIndex: 1312265 entries, 0 to 1312264\n",
      "Data columns (total 8 columns):\n",
      " #   Column         Non-Null Count    Dtype         \n",
      "---  ------         --------------    -----         \n",
      " 0   Ticker         1312265 non-null  string        \n",
      " 1   Date/Time      1312265 non-null  datetime64[ns]\n",
      " 2   Open           1312265 non-null  float64       \n",
      " 3   High           1312265 non-null  float64       \n",
      " 4   Low            1312265 non-null  float64       \n",
      " 5   Close          1312265 non-null  float64       \n",
      " 6   Volume         1312265 non-null  float64       \n",
      " 7   Open Interest  1312265 non-null  float64       \n",
      "dtypes: datetime64[ns](1), float64(6), string(1)\n",
      "memory usage: 80.1 MB\n"
     ]
    }
   ],
   "source": [
    "df.info()"
   ]
  },
  {
   "attachments": {},
   "cell_type": "markdown",
   "metadata": {},
   "source": [
    "## Write to parquet format file"
   ]
  },
  {
   "cell_type": "code",
   "execution_count": 21,
   "metadata": {},
   "outputs": [],
   "source": [
    "df.to_parquet(f'{path}.parquet', index=False)"
   ]
  },
  {
   "cell_type": "code",
   "execution_count": 22,
   "metadata": {},
   "outputs": [],
   "source": [
    "df_parquet = pd.read_parquet(f'{path}.parquet')"
   ]
  },
  {
   "cell_type": "code",
   "execution_count": 23,
   "metadata": {},
   "outputs": [
    {
     "name": "stdout",
     "output_type": "stream",
     "text": [
      "<class 'pandas.core.frame.DataFrame'>\n",
      "RangeIndex: 1312265 entries, 0 to 1312264\n",
      "Data columns (total 8 columns):\n",
      " #   Column         Non-Null Count    Dtype         \n",
      "---  ------         --------------    -----         \n",
      " 0   Ticker         1312265 non-null  object        \n",
      " 1   Date/Time      1312265 non-null  datetime64[ns]\n",
      " 2   Open           1312265 non-null  float64       \n",
      " 3   High           1312265 non-null  float64       \n",
      " 4   Low            1312265 non-null  float64       \n",
      " 5   Close          1312265 non-null  float64       \n",
      " 6   Volume         1312265 non-null  float64       \n",
      " 7   Open Interest  1312265 non-null  float64       \n",
      "dtypes: datetime64[ns](1), float64(6), object(1)\n",
      "memory usage: 80.1+ MB\n"
     ]
    }
   ],
   "source": [
    "df_parquet.info()"
   ]
  },
  {
   "cell_type": "code",
   "execution_count": null,
   "metadata": {},
   "outputs": [],
   "source": []
  }
 ],
 "metadata": {
  "kernelspec": {
   "display_name": ".venv",
   "language": "python",
   "name": "python3"
  },
  "language_info": {
   "codemirror_mode": {
    "name": "ipython",
    "version": 3
   },
   "file_extension": ".py",
   "mimetype": "text/x-python",
   "name": "python",
   "nbconvert_exporter": "python",
   "pygments_lexer": "ipython3",
   "version": "3.8.10"
  },
  "orig_nbformat": 4,
  "vscode": {
   "interpreter": {
    "hash": "fe9d4b083a44ebf6bef32a91ea107c3fc4b55f5a3b42020a6a91d3fc5c65cd2d"
   }
  }
 },
 "nbformat": 4,
 "nbformat_minor": 2
}
